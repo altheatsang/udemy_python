{
 "cells": [
  {
   "cell_type": "markdown",
   "metadata": {},
   "source": [
    "# Nested statements and scope \n",
    "\n",
    "Need to understand how Python deals with variable names assigned. \n",
    "\n",
    "When a variable name is created in Python, name is stored in a _name-space_. \n",
    "\n",
    "Variable names have a _scope_, scope determines visibility of that variable name to other parts of code. "
   ]
  },
  {
   "cell_type": "code",
   "execution_count": 1,
   "metadata": {},
   "outputs": [
    {
     "name": "stdout",
     "output_type": "stream",
     "text": [
      "25\n",
      "50\n"
     ]
    }
   ],
   "source": [
    "x = 25\n",
    "\n",
    "def printer():\n",
    "    x = 50\n",
    "    return x\n",
    "\n",
    "print x\n",
    "print printer()"
   ]
  },
  {
   "cell_type": "markdown",
   "metadata": {},
   "source": [
    "Output of print x is 25\n",
    "\n",
    "Output of print printer() is 50\n",
    "\n",
    "How does Python know which __x__ is referred to in code? \n",
    "\n",
    "Python has a set of rules it follows to decide what variables (e.g. x in this case) are referenced in code, i.e. scope. \n",
    "\n",
    "Scope in code is important to understand, in order to properly assign and call variable names. \n",
    "\n",
    "Scope can be described by 3 general rules: \n",
    "   \n",
    "    i) Name assignments will create or change local names by default. \n",
    "    \n",
    "    ii) Name references search (at most) four scopes, these are:\n",
    "        * local \n",
    "        * enclosing functions\n",
    "        * global\n",
    "        * built-in\n",
    "        \n",
    "    iii) Names declared in global and nonlocal statements map assigned names to enclosing module and function scopes \n",
    "\n",
    "__LEGB Rule__\n",
    "L: Local - names assigned in any way within a function (def or lambda), and not declared global in that function.\n",
    "\n",
    "E: Enclosing function locals - name in the local scope of any and all enclosing functions (def or lambda) from inner to outer.\n",
    "\n",
    "G: Global (module) - names assigned at the top-level of a module file, or declared global in a def within the file. \n",
    "\n",
    "B: Built-in (Python) - names pre-assigned in the built-in names module (e.g. open, range, SyntaxError...)"
   ]
  },
  {
   "cell_type": "markdown",
   "metadata": {},
   "source": [
    "__Local__"
   ]
  },
  {
   "cell_type": "code",
   "execution_count": 2,
   "metadata": {
    "collapsed": true
   },
   "outputs": [],
   "source": [
    "# x is local here: \n",
    "f = lambda x: x**2"
   ]
  },
  {
   "cell_type": "markdown",
   "metadata": {},
   "source": [
    "__Enclosing function locals__ - occurs when there is a function inside a function (nested)"
   ]
  },
  {
   "cell_type": "code",
   "execution_count": 3,
   "metadata": {},
   "outputs": [
    {
     "name": "stdout",
     "output_type": "stream",
     "text": [
      "Hello Sammy\n"
     ]
    }
   ],
   "source": [
    "name = 'This is a global name'\n",
    "\n",
    "def greet():\n",
    "    # Enclosing function\n",
    "    name = 'Sammy'\n",
    "    \n",
    "    def hello():\n",
    "        print 'Hello '+name\n",
    "    \n",
    "    hello()\n",
    "    \n",
    "greet()"
   ]
  },
  {
   "cell_type": "markdown",
   "metadata": {},
   "source": [
    "hello() function enclosed inside the greet() function"
   ]
  },
  {
   "cell_type": "markdown",
   "metadata": {},
   "source": [
    "__Global__ - Quick way to test for global vairables in Jupyter is to see if another cell recognises the variable"
   ]
  },
  {
   "cell_type": "code",
   "execution_count": 4,
   "metadata": {},
   "outputs": [
    {
     "name": "stdout",
     "output_type": "stream",
     "text": [
      "This is a global name\n"
     ]
    }
   ],
   "source": [
    "print name"
   ]
  },
  {
   "cell_type": "markdown",
   "metadata": {},
   "source": [
    "__Built-in__ - These are built-in function names in Python (don't overwrite these...)"
   ]
  },
  {
   "cell_type": "code",
   "execution_count": 5,
   "metadata": {},
   "outputs": [
    {
     "data": {
      "text/plain": [
       "<function len>"
      ]
     },
     "execution_count": 5,
     "metadata": {},
     "output_type": "execute_result"
    }
   ],
   "source": [
    "len"
   ]
  },
  {
   "cell_type": "markdown",
   "metadata": {},
   "source": [
    "__Local Variables__ \n",
    "\n",
    "When you declare variables inside a function defintion, they are not related in any way to other variables with the same name outside the function, i.e. variable names are local to the function. \n",
    "\n",
    "This is called the scope of the variable. All variables have the scope of the block they are declared in, starting from the point of definition of the name. \n",
    "\n",
    "Example:"
   ]
  },
  {
   "cell_type": "code",
   "execution_count": 6,
   "metadata": {},
   "outputs": [
    {
     "name": "stdout",
     "output_type": "stream",
     "text": [
      "x is 50\n",
      "Changed local x to 2\n",
      "x is still 50\n"
     ]
    }
   ],
   "source": [
    "x = 50\n",
    "\n",
    "def func(x):\n",
    "    print 'x is', x\n",
    "    x = 2\n",
    "    print 'Changed local x to', x\n",
    "\n",
    "func(x)\n",
    "print 'x is still', x"
   ]
  },
  {
   "cell_type": "markdown",
   "metadata": {},
   "source": [
    "First printing of x is from the parameter declared in main block (x = 50).\n",
    "\n",
    "Value 2 is then assigned to x, which is local to the function. Definition in main block is unaffected. \n",
    "\n",
    "Last print statement displays x as defined in main block. confirms that it is unaffected by local assignment within the function. \n",
    "\n",
    "__Global Statement__\n",
    "\n",
    "To assign a value to a name defined at the top level of a program (i.e. not within any scope such as functions or classes), then have to tell Python that the name is not local, i.e. global. \n",
    "\n",
    "Use the global statement - impossible to assign a value to variable defined outside a function without a global statement. \n",
    "\n",
    "Example:"
   ]
  },
  {
   "cell_type": "code",
   "execution_count": 8,
   "metadata": {},
   "outputs": [
    {
     "name": "stdout",
     "output_type": "stream",
     "text": [
      "Before calling func(), x is:  50\n",
      "This function is now using the global x\n",
      "Because of global, x is:  50\n",
      "Ran func(), changed global x to 2\n",
      "Value of x (outside of func()) is:  2\n"
     ]
    }
   ],
   "source": [
    "x = 50\n",
    "\n",
    "def func():\n",
    "    global x\n",
    "    print 'This function is now using the global x'\n",
    "    print 'Because of global, x is: ',x\n",
    "    x = 2\n",
    "    print 'Ran func(), changed global x to',x\n",
    "\n",
    "print 'Before calling func(), x is: ', x\n",
    "func()\n",
    "print 'Value of x (outside of func()) is: ',x"
   ]
  },
  {
   "cell_type": "markdown",
   "metadata": {},
   "source": [
    "Global statement declares nature of x - when x assigned a value inside function, change is reflected when x is used outside of main block. \n",
    "\n",
    "Can specify more than one global variable, e.g. global x, y, z. \n",
    "\n",
    "Use globals() and locals() functions to check which variables are currently global and local. "
   ]
  },
  {
   "cell_type": "code",
   "execution_count": null,
   "metadata": {
    "collapsed": true
   },
   "outputs": [],
   "source": []
  }
 ],
 "metadata": {
  "kernelspec": {
   "display_name": "Python 2",
   "language": "python",
   "name": "python2"
  },
  "language_info": {
   "codemirror_mode": {
    "name": "ipython",
    "version": 2
   },
   "file_extension": ".py",
   "mimetype": "text/x-python",
   "name": "python",
   "nbconvert_exporter": "python",
   "pygments_lexer": "ipython2",
   "version": "2.7.14"
  }
 },
 "nbformat": 4,
 "nbformat_minor": 2
}
