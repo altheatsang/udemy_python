{
 "cells": [
  {
   "cell_type": "markdown",
   "metadata": {},
   "source": [
    "# Introduction to Python Statements \n",
    "\n",
    "Overview of Python statements, differences between Python and other languages (e.g. C++). "
   ]
  },
  {
   "cell_type": "markdown",
   "metadata": {},
   "source": [
    "__Python v Other Languages__\n",
    "\n",
    "Create a statement that says: \"If a is greater than b, assign 2 to a and 4 to b\"."
   ]
  },
  {
   "cell_type": "markdown",
   "metadata": {},
   "source": [
    "__Version 1 (Other languages)__\n",
    "\n",
    "    if (a > b){\n",
    "        a = 2;\n",
    "        b = 4;\n",
    "    }"
   ]
  },
  {
   "cell_type": "markdown",
   "metadata": {},
   "source": [
    "__Version 2 (Python)__\n",
    "\n",
    "    if a > b:\n",
    "        a = 2\n",
    "        b = 4"
   ]
  },
  {
   "cell_type": "markdown",
   "metadata": {},
   "source": [
    "Python is less cluttered, more readable\n",
    "\n",
    "Python removes () and [] by incorporating _colon_ and _whitespace_.\n",
    "\n",
    "Statement ends with a colon, whitespace used to describe what takes place in case of the statement. \n",
    "\n",
    "Python doesn't use semicolons (typically denote the end of a statement in other languages), end of a line denotes end of statement. "
   ]
  },
  {
   "cell_type": "markdown",
   "metadata": {},
   "source": [
    "__Indentation__\n",
    "\n",
    "__Version 1 (Other languages)__\n",
    "\n",
    "    if (x)\n",
    "        if  (y)\n",
    "            code-statement;\n",
    "    else\n",
    "        another-code-statement;\n",
    "\n",
    "__Version 2 (Python)__\n",
    "\n",
    "    if x:\n",
    "        if y:\n",
    "            code-statement\n",
    "    else\n",
    "        another-code-statement\n",
    "        \n",
    "Python is driven by code indentation and whitespace - code readability is a core part of Python."
   ]
  },
  {
   "cell_type": "code",
   "execution_count": null,
   "metadata": {
    "collapsed": true
   },
   "outputs": [],
   "source": []
  }
 ],
 "metadata": {
  "kernelspec": {
   "display_name": "Python 2",
   "language": "python",
   "name": "python2"
  },
  "language_info": {
   "codemirror_mode": {
    "name": "ipython",
    "version": 2
   },
   "file_extension": ".py",
   "mimetype": "text/x-python",
   "name": "python",
   "nbconvert_exporter": "python",
   "pygments_lexer": "ipython2",
   "version": "2.7.14"
  }
 },
 "nbformat": 4,
 "nbformat_minor": 2
}
