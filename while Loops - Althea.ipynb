{
 "cells": [
  {
   "cell_type": "markdown",
   "metadata": {},
   "source": [
    "# while Loops#\n",
    "\n",
    "__while__ statement is one of the most general ways to perform iteration. \n",
    "\n",
    "__while__ statement will repeatedly execute a single statement or group of statements as long as condition is true. \n",
    "\n",
    "Called a 'loop' because code statements are looped through over and over again until condition is no longer met.\n",
    "\n",
    "General format: \n",
    "\n",
    "    while test:\n",
    "        code statement \n",
    "    else:\n",
    "        final code statement"
   ]
  },
  {
   "cell_type": "code",
   "execution_count": 1,
   "metadata": {},
   "outputs": [
    {
     "name": "stdout",
     "output_type": "stream",
     "text": [
      "x is currently:  0\n",
      " x is still less than 10, adding 1 to x\n",
      "x is currently:  1\n",
      " x is still less than 10, adding 1 to x\n",
      "x is currently:  2\n",
      " x is still less than 10, adding 1 to x\n",
      "x is currently:  3\n",
      " x is still less than 10, adding 1 to x\n",
      "x is currently:  4\n",
      " x is still less than 10, adding 1 to x\n",
      "x is currently:  5\n",
      " x is still less than 10, adding 1 to x\n",
      "x is currently:  6\n",
      " x is still less than 10, adding 1 to x\n",
      "x is currently:  7\n",
      " x is still less than 10, adding 1 to x\n",
      "x is currently:  8\n",
      " x is still less than 10, adding 1 to x\n",
      "x is currently:  9\n",
      " x is still less than 10, adding 1 to x\n"
     ]
    }
   ],
   "source": [
    "x = 0\n",
    "\n",
    "while x < 10: \n",
    "    print 'x is currently: ', x\n",
    "    print ' x is still less than 10, adding 1 to x'\n",
    "    x+=1"
   ]
  },
  {
   "cell_type": "markdown",
   "metadata": {},
   "source": [
    "while loop keeps going until True condition is met, i.e. once x == 10\n",
    "\n",
    "Now add an else statement:"
   ]
  },
  {
   "cell_type": "code",
   "execution_count": 2,
   "metadata": {},
   "outputs": [
    {
     "name": "stdout",
     "output_type": "stream",
     "text": [
      "x is currently:  0\n",
      "x is still less than 10, adding 1 to x\n",
      "x is currently:  1\n",
      "x is still less than 10, adding 1 to x\n",
      "x is currently:  2\n",
      "x is still less than 10, adding 1 to x\n",
      "x is currently:  3\n",
      "x is still less than 10, adding 1 to x\n",
      "x is currently:  4\n",
      "x is still less than 10, adding 1 to x\n",
      "x is currently:  5\n",
      "x is still less than 10, adding 1 to x\n",
      "x is currently:  6\n",
      "x is still less than 10, adding 1 to x\n",
      "x is currently:  7\n",
      "x is still less than 10, adding 1 to x\n",
      "x is currently:  8\n",
      "x is still less than 10, adding 1 to x\n",
      "x is currently:  9\n",
      "x is still less than 10, adding 1 to x\n",
      "All done!\n"
     ]
    }
   ],
   "source": [
    "x = 0 \n",
    "\n",
    "while x < 10:\n",
    "    print 'x is currently: ',x\n",
    "    print 'x is still less than 10, adding 1 to x'\n",
    "    x += 1\n",
    "\n",
    "else: \n",
    "    print 'All done!'\n",
    "    \n"
   ]
  },
  {
   "cell_type": "markdown",
   "metadata": {},
   "source": [
    "__break, continue and pass__\n",
    "\n",
    "Use break, continue and pass statements in loops to add additional functionality for various cases. \n",
    "\n",
    "These statements defined by: \n",
    "\n",
    "    break: breaks out of the current closest enclosing loop\n",
    "    continue: goes to top of closest enclosing loop\n",
    "    pass: does nothing at all \n",
    "\n",
    "General format of while loop: \n",
    "\n",
    "    while test:\n",
    "        code statement \n",
    "        if test:\n",
    "            break\n",
    "        if test:\n",
    "            continue\n",
    "        else:"
   ]
  },
  {
   "cell_type": "code",
   "execution_count": 4,
   "metadata": {},
   "outputs": [
    {
     "name": "stdout",
     "output_type": "stream",
     "text": [
      "x is currently:  0\n",
      " x is still less than 10, adding 1 to x\n",
      "continuing...\n",
      "x is currently:  1\n",
      " x is still less than 10, adding 1 to x\n",
      "continuing...\n",
      "x is currently:  2\n",
      " x is still less than 10, adding 1 to x\n",
      "x == 3\n",
      "x is currently:  3\n",
      " x is still less than 10, adding 1 to x\n",
      "continuing...\n",
      "x is currently:  4\n",
      " x is still less than 10, adding 1 to x\n",
      "continuing...\n",
      "x is currently:  5\n",
      " x is still less than 10, adding 1 to x\n",
      "continuing...\n",
      "x is currently:  6\n",
      " x is still less than 10, adding 1 to x\n",
      "continuing...\n",
      "x is currently:  7\n",
      " x is still less than 10, adding 1 to x\n",
      "continuing...\n",
      "x is currently:  8\n",
      " x is still less than 10, adding 1 to x\n",
      "continuing...\n",
      "x is currently:  9\n",
      " x is still less than 10, adding 1 to x\n",
      "continuing...\n"
     ]
    }
   ],
   "source": [
    "x = 0\n",
    "\n",
    "while x < 10: \n",
    "    print 'x is currently: ',x\n",
    "    print ' x is still less than 10, adding 1 to x'\n",
    "    x += 1\n",
    "    if x == 3:\n",
    "        print 'x == 3'\n",
    "    else:\n",
    "        print 'continuing...'\n",
    "        continue "
   ]
  },
  {
   "cell_type": "markdown",
   "metadata": {},
   "source": [
    "There is a printed statement when x == 3, and continue being printed as it continues through outer while loop \n",
    "\n",
    "Put a break in once x == 3:"
   ]
  },
  {
   "cell_type": "code",
   "execution_count": 5,
   "metadata": {},
   "outputs": [
    {
     "name": "stdout",
     "output_type": "stream",
     "text": [
      "x is currently:  0\n",
      " x is still less than 10, adding 1 to x\n",
      "continuing...\n",
      "x is currently:  1\n",
      " x is still less than 10, adding 1 to x\n",
      "continuing...\n",
      "x is currently:  2\n",
      " x is still less than 10, adding 1 to x\n",
      "Breaking because x == 3\n"
     ]
    }
   ],
   "source": [
    "x = 0\n",
    "\n",
    "while x < 10: \n",
    "    print 'x is currently: ',x\n",
    "    print ' x is still less than 10, adding 1 to x'\n",
    "    x += 1\n",
    "    if x == 3:\n",
    "        print 'Breaking because x == 3'\n",
    "        break\n",
    "    else: \n",
    "        print 'continuing...'\n",
    "        continue "
   ]
  },
  {
   "cell_type": "markdown",
   "metadata": {},
   "source": [
    "Other else statement wasn't reached and continuing was never printed. "
   ]
  },
  {
   "cell_type": "markdown",
   "metadata": {},
   "source": [
    "Do not create infinitely running loop with while statements:\n",
    "\n",
    "For example (do not run):\n",
    "\n",
    "    while TRUE:\n",
    "        print 'Infinite loop!'"
   ]
  }
 ],
 "metadata": {
  "kernelspec": {
   "display_name": "Python 2",
   "language": "python",
   "name": "python2"
  },
  "language_info": {
   "codemirror_mode": {
    "name": "ipython",
    "version": 2
   },
   "file_extension": ".py",
   "mimetype": "text/x-python",
   "name": "python",
   "nbconvert_exporter": "python",
   "pygments_lexer": "ipython2",
   "version": "2.7.14"
  }
 },
 "nbformat": 4,
 "nbformat_minor": 2
}
